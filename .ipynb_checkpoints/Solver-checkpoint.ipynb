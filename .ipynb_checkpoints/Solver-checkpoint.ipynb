{
 "cells": [
  {
   "cell_type": "code",
   "execution_count": 80,
   "metadata": {},
   "outputs": [
    {
     "data": {
      "text/plain": [
       "False"
      ]
     },
     "execution_count": 80,
     "metadata": {},
     "output_type": "execute_result"
    }
   ],
   "source": [
    "import networkx as nx\n",
    "from parse import read_input_file, write_output_file\n",
    "from utils import is_valid_network, average_pairwise_distance_fast\n",
    "import sys\n",
    "\n",
    "G = read_input_file(\"inputs/small-99.in\")\n",
    "def solve(G):\n",
    "    \"\"\"\n",
    "    Args:\n",
    "        G: networkx.Graph\n",
    "\n",
    "    Returns:\n",
    "        T: networkx.Graph\n",
    "    \"\"\"\n",
    "    def get_edges(arr):\n",
    "        if len(arr) < 1:\n",
    "            return None\n",
    "        edges = []\n",
    "        for i in range(len(arr) - 1):\n",
    "            edges.append([arr[i], arr[i + 1]])\n",
    "        return edges\n",
    "    \n",
    "    def eq_edges(edge1, edge2):\n",
    "        return (edge1[0] == edge2[0] and edge1[1] == edge2[1]) or (edge1[0] == edge2[1] and edge1[1] == edge2[0])\n",
    "    \n",
    "    def add_freq(arr, edge):\n",
    "        for e in arr:\n",
    "            if (eq_edges(e[0], edge)):\n",
    "                e[1] += 1\n",
    "            \n",
    "    edge_freq = [[(u, v, d['weight']), 0] for (u, v, d) in G.edges(data=True)]\n",
    "    \n",
    "    paths = []\n",
    "    \n",
    "    for node in nx.nodes(G):\n",
    "        paths.append(nx.single_source_dijkstra_path(G, node, weight='weight'))\n",
    "        \n",
    "    for path in paths:\n",
    "        for node in nx.nodes(G):\n",
    "            for edge in get_edges(path[node]):\n",
    "                if (edge != None):\n",
    "                    add_freq(edge_freq, edge)\n",
    "        \n",
    "    edge_freq.sort(key = (lambda d: d[1]), reverse=False)\n",
    "    \n",
    "    t = nx.Graph(G)\n",
    "    for n in nx.nodes(G):\n",
    "        t.add_node(n)\n",
    "        \n",
    "    num_edges = nx.number_of_nodes(G) - 1\n",
    "    added_edges = 0\n",
    "    while (added_edges < num_edges):\n",
    "        edge = edge_freq.pop()[0]\n",
    "        t.add_edge(edge[0], edge[1], weight=edge[2])\n",
    "        if (not nx.is_tree(t)):\n",
    "            t.remove_edge(edge[0], edge[1])\n",
    "        else:\n",
    "            added_edges += 1\n",
    "            \n",
    "    return is_valid_network(G, t)\n",
    "\n",
    "solve(G)\n",
    "\n",
    "# Here's an example of how to run your solver.\n",
    "\n",
    "# Usage: python3 solver.py test.in\n",
    "\n",
    "# if __name__ == '__main__':\n",
    "#     assert len(sys.argv) == 2\n",
    "#     path = sys.argv[1]\n",
    "#     G = read_input_file(path)\n",
    "#     T = solve(G)\n",
    "#     assert is_valid_network(G, T)\n",
    "#     print(\"Average  pairwise distance: {}\".format(average_pairwise_distance_fast(T)))\n",
    "#     write_output_file(T, 'out/test.out')"
   ]
  },
  {
   "cell_type": "code",
   "execution_count": null,
   "metadata": {},
   "outputs": [],
   "source": []
  },
  {
   "cell_type": "code",
   "execution_count": null,
   "metadata": {},
   "outputs": [],
   "source": []
  }
 ],
 "metadata": {
  "kernelspec": {
   "display_name": "Python 3",
   "language": "python",
   "name": "python3"
  },
  "language_info": {
   "codemirror_mode": {
    "name": "ipython",
    "version": 3
   },
   "file_extension": ".py",
   "mimetype": "text/x-python",
   "name": "python",
   "nbconvert_exporter": "python",
   "pygments_lexer": "ipython3",
   "version": "3.7.5"
  }
 },
 "nbformat": 4,
 "nbformat_minor": 4
}
